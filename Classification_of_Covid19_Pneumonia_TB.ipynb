{
  "cells": [
    {
      "cell_type": "code",
      "source": [
        "__author__ = \"Birat Siku\"\n",
        "__email__ = \"birat.sk21@gmail.com\""
      ],
      "metadata": {
        "id": "gCDqi2Cpgu8g"
      },
      "execution_count": null,
      "outputs": []
    },
    {
      "cell_type": "markdown",
      "metadata": {
        "id": "c9drc43cNEpn"
      },
      "source": [
        "# Import and unzip Kaggle data set"
      ]
    },
    {
      "cell_type": "code",
      "execution_count": null,
      "metadata": {
        "id": "3KYnFOT8NJ3g"
      },
      "outputs": [],
      "source": [
        "# ! pip install kaggle\n",
        "# ! mkdir ~/.kaggle\n",
        "# ! cp kaggle.json ~/.kaggle/\n",
        "# ! chmod 600 ~/.kaggle/kaggle.json\n",
        "# ! kaggle datasets download -d jtiptj/chest-xray-pneumoniacovid19tuberculosis"
      ]
    },
    {
      "cell_type": "code",
      "execution_count": null,
      "metadata": {
        "id": "QDk9KuZaN8VW"
      },
      "outputs": [],
      "source": [
        "# ! unzip chest-xray-pneumoniacovid19tuberculosis.zip"
      ]
    },
    {
      "cell_type": "markdown",
      "metadata": {
        "id": "W-GKY8h_XEIN"
      },
      "source": [
        "# Implementation"
      ]
    },
    {
      "cell_type": "code",
      "execution_count": null,
      "metadata": {
        "id": "3Mgi7SqyOY71"
      },
      "outputs": [],
      "source": [
        "import os\n",
        "import matplotlib.pyplot as plt\n",
        "import numpy as np"
      ]
    },
    {
      "cell_type": "code",
      "execution_count": null,
      "metadata": {
        "colab": {
          "base_uri": "https://localhost:8080/"
        },
        "id": "NyoNcjz1MAC8",
        "outputId": "80db37ae-209d-4152-e04d-a647e3b1fd83"
      },
      "outputs": [
        {
          "output_type": "stream",
          "name": "stdout",
          "text": [
            "['COVID19', 'NORMAL', 'PNEUMONIA', 'TURBERCULOSIS']\n"
          ]
        }
      ],
      "source": [
        "train_path='/content/train/' \n",
        "test_path='/content/test/'\n",
        "category=sorted(os.listdir(train_path))\n",
        "print(category)"
      ]
    },
    {
      "cell_type": "code",
      "execution_count": null,
      "metadata": {
        "id": "vXOgfaqp5m6v"
      },
      "outputs": [],
      "source": [
        "import tensorflow\n",
        "from tensorflow.keras.preprocessing import image_dataset_from_directory"
      ]
    },
    {
      "cell_type": "code",
      "execution_count": null,
      "metadata": {
        "colab": {
          "base_uri": "https://localhost:8080/"
        },
        "id": "ghO2xw8B86YE",
        "outputId": "7f557485-78b6-4963-8f30-9c62b44f7175"
      },
      "outputs": [
        {
          "output_type": "stream",
          "name": "stdout",
          "text": [
            "Found 6326 files belonging to 4 classes.\n",
            "Using 5061 files for training.\n",
            "Found 6326 files belonging to 4 classes.\n",
            "Using 1265 files for validation.\n",
            "Found 771 files belonging to 4 classes.\n",
            "Using 764 files for training.\n"
          ]
        }
      ],
      "source": [
        "BATCH_SIZE = 16\n",
        "IMG_SHAPE=(120,120)\n",
        "\n",
        "train_images = image_dataset_from_directory(\n",
        "  train_path,\n",
        "  labels=\"inferred\",\n",
        "  label_mode=\"categorical\", \n",
        "  subset=\"training\",\n",
        "  class_names = category, \n",
        "  validation_split=0.2,\n",
        "  seed=123,\n",
        "  shuffle = True,\n",
        "  image_size=IMG_SHAPE,\n",
        "  batch_size=BATCH_SIZE\n",
        ")\n",
        "\n",
        "test_images = image_dataset_from_directory(\n",
        "  train_path,\n",
        "  labels=\"inferred\",\n",
        "  label_mode=\"categorical\",\n",
        "  validation_split=0.2,\n",
        "  class_names = category, \n",
        "  subset=\"validation\",\n",
        "  seed=123,\n",
        "  shuffle = True,\n",
        "  image_size=IMG_SHAPE,\n",
        "  batch_size=BATCH_SIZE\n",
        ")\n",
        "\n",
        "val_images = image_dataset_from_directory(\n",
        "  test_path,\n",
        "  labels=\"inferred\",\n",
        "  label_mode=\"categorical\",\n",
        "  validation_split=0.01,\n",
        "  class_names = category,\n",
        "  subset=\"training\",\n",
        "  shuffle = True,\n",
        "  seed=123,\n",
        "  image_size=IMG_SHAPE,\n",
        "  batch_size=BATCH_SIZE)"
      ]
    },
    {
      "cell_type": "code",
      "execution_count": null,
      "metadata": {
        "id": "_tdvQkAt_Y43"
      },
      "outputs": [],
      "source": [
        "import keras\n",
        "from keras.models import Sequential\n",
        "from keras.layers import Dense,Conv2D,MaxPool2D,Flatten,Dropout, BatchNormalization"
      ]
    },
    {
      "cell_type": "code",
      "execution_count": null,
      "metadata": {
        "colab": {
          "base_uri": "https://localhost:8080/"
        },
        "id": "e32A_PWieWnK",
        "outputId": "a86d6cb4-ad93-4a99-dc48-1c9446fb2ee1"
      },
      "outputs": [
        {
          "output_type": "stream",
          "name": "stdout",
          "text": [
            "Model: \"sequential_1\"\n",
            "_________________________________________________________________\n",
            " Layer (type)                Output Shape              Param #   \n",
            "=================================================================\n",
            " conv2d_5 (Conv2D)           (None, 118, 118, 3)       84        \n",
            "                                                                 \n",
            " batch_normalization_3 (Batc  (None, 118, 118, 3)      12        \n",
            " hNormalization)                                                 \n",
            "                                                                 \n",
            " conv2d_6 (Conv2D)           (None, 116, 116, 5)       140       \n",
            "                                                                 \n",
            " batch_normalization_4 (Batc  (None, 116, 116, 5)      20        \n",
            " hNormalization)                                                 \n",
            "                                                                 \n",
            " max_pooling2d_3 (MaxPooling  (None, 38, 38, 5)        0         \n",
            " 2D)                                                             \n",
            "                                                                 \n",
            " conv2d_7 (Conv2D)           (None, 36, 36, 16)        736       \n",
            "                                                                 \n",
            " batch_normalization_5 (Batc  (None, 36, 36, 16)       64        \n",
            " hNormalization)                                                 \n",
            "                                                                 \n",
            " max_pooling2d_4 (MaxPooling  (None, 12, 12, 16)       0         \n",
            " 2D)                                                             \n",
            "                                                                 \n",
            " conv2d_8 (Conv2D)           (None, 10, 10, 92)        13340     \n",
            "                                                                 \n",
            " conv2d_9 (Conv2D)           (None, 8, 8, 114)         94506     \n",
            "                                                                 \n",
            " max_pooling2d_5 (MaxPooling  (None, 1, 1, 114)        0         \n",
            " 2D)                                                             \n",
            "                                                                 \n",
            " flatten_1 (Flatten)         (None, 114)               0         \n",
            "                                                                 \n",
            " dense_6 (Dense)             (None, 2048)              235520    \n",
            "                                                                 \n",
            " dense_7 (Dense)             (None, 512)               1049088   \n",
            "                                                                 \n",
            " dropout_2 (Dropout)         (None, 512)               0         \n",
            "                                                                 \n",
            " dense_8 (Dense)             (None, 256)               131328    \n",
            "                                                                 \n",
            " dense_9 (Dense)             (None, 64)                16448     \n",
            "                                                                 \n",
            " dropout_3 (Dropout)         (None, 64)                0         \n",
            "                                                                 \n",
            " dense_10 (Dense)            (None, 32)                2080      \n",
            "                                                                 \n",
            " dense_11 (Dense)            (None, 4)                 132       \n",
            "                                                                 \n",
            "=================================================================\n",
            "Total params: 1,543,498\n",
            "Trainable params: 1,543,450\n",
            "Non-trainable params: 48\n",
            "_________________________________________________________________\n"
          ]
        }
      ],
      "source": [
        "model= Sequential()\n",
        "\n",
        "model.add(Conv2D(filters=3,strides= 1, kernel_size = (3,3), activation='relu', input_shape=(IMG_SHAPE[0],IMG_SHAPE[1],3,)))\n",
        "model.add(BatchNormalization())\n",
        "\n",
        "model.add(Conv2D(filters=5,kernel_size = (3,3),activation='relu'))\n",
        "model.add(BatchNormalization())\n",
        "model.add(MaxPool2D(3,3)) \n",
        "\n",
        "model.add(Conv2D(filters=16,kernel_size = (3,3),activation='relu'))\n",
        "model.add(BatchNormalization())\n",
        "model.add(MaxPool2D(3,3)) \n",
        "\n",
        "model.add(Conv2D(filters=92,kernel_size = (3,3),activation='relu'))\n",
        "model.add(Conv2D(filters=114,kernel_size = (3,3),activation='relu'))\n",
        "model.add(MaxPool2D(6,6))\n",
        "\n",
        "model.add(Flatten())\n",
        "model.add(Dense(2048,activation='relu'))\n",
        "model.add(Dense(512,activation='relu'))\n",
        "model.add(Dropout(.1))\n",
        "model.add(Dense(256,activation='relu'))\n",
        "model.add(Dense(64,activation='relu'))\n",
        "model.add(Dropout(.1))\n",
        "model.add(Dense(32,activation='relu'))\n",
        "model.add(Dense(4,activation = 'softmax'))\n",
        "\n",
        "model.compile(loss = 'categorical_crossentropy', optimizer ='adam', metrics= ['accuracy'])\n",
        "model.summary()"
      ]
    },
    {
      "cell_type": "code",
      "execution_count": null,
      "metadata": {
        "colab": {
          "base_uri": "https://localhost:8080/"
        },
        "id": "Ewx2KF7Sef7-",
        "outputId": "65bb4d2d-af2b-4259-970c-c498a8a55d0b"
      },
      "outputs": [
        {
          "output_type": "stream",
          "name": "stdout",
          "text": [
            "Epoch 1/10\n",
            "317/317 [==============================] - 134s 414ms/step - loss: 0.5951 - accuracy: 0.7696 - val_loss: 0.3285 - val_accuracy: 0.8791\n",
            "Epoch 2/10\n",
            "317/317 [==============================] - 133s 418ms/step - loss: 0.3294 - accuracy: 0.8795 - val_loss: 0.3077 - val_accuracy: 0.8751\n",
            "Epoch 3/10\n",
            "317/317 [==============================] - 132s 415ms/step - loss: 0.2614 - accuracy: 0.9057 - val_loss: 0.2524 - val_accuracy: 0.9075\n",
            "Epoch 4/10\n",
            "317/317 [==============================] - 135s 422ms/step - loss: 0.2453 - accuracy: 0.9097 - val_loss: 1.1039 - val_accuracy: 0.7431\n",
            "Epoch 5/10\n",
            "317/317 [==============================] - 133s 415ms/step - loss: 0.2120 - accuracy: 0.9308 - val_loss: 0.1843 - val_accuracy: 0.9328\n",
            "Epoch 6/10\n",
            "317/317 [==============================] - 135s 421ms/step - loss: 0.1681 - accuracy: 0.9441 - val_loss: 0.1626 - val_accuracy: 0.9375\n",
            "Epoch 7/10\n",
            "317/317 [==============================] - 133s 416ms/step - loss: 0.1423 - accuracy: 0.9534 - val_loss: 0.2247 - val_accuracy: 0.9138\n",
            "Epoch 8/10\n",
            "317/317 [==============================] - 133s 418ms/step - loss: 0.1183 - accuracy: 0.9597 - val_loss: 0.2867 - val_accuracy: 0.9075\n",
            "Epoch 9/10\n",
            "317/317 [==============================] - 136s 425ms/step - loss: 0.0968 - accuracy: 0.9696 - val_loss: 0.1912 - val_accuracy: 0.9557\n",
            "Epoch 10/10\n",
            "317/317 [==============================] - 133s 417ms/step - loss: 0.1445 - accuracy: 0.9514 - val_loss: 0.1209 - val_accuracy: 0.9652\n"
          ]
        }
      ],
      "source": [
        "history=model.fit(train_images,epochs=10,validation_data=test_images,verbose= 1)"
      ]
    },
    {
      "cell_type": "code",
      "source": [
        "plt.figure(figsize=(10, 5))\n",
        "val_acc, = plt.plot(history.history['val_accuracy'],'r.-', label='Validation Accuracy')\n",
        "acc, = plt.plot(history.history['accuracy'],'g.-', label='Training Accuracy')\n",
        "plt.grid()\n",
        "plt.title('Training and Validation Accuracy')\n",
        "plt.ylabel('Accuracy')\n",
        "plt.xlabel('No. of epoch')\n",
        "plt.legend(handles=[val_acc, acc])\n",
        "plt.show()"
      ],
      "metadata": {
        "colab": {
          "base_uri": "https://localhost:8080/",
          "height": 350
        },
        "id": "EKZ0Yn3xWsup",
        "outputId": "4f5706f5-adda-4295-8781-f4637d69ab76"
      },
      "execution_count": null,
      "outputs": [
        {
          "output_type": "display_data",
          "data": {
            "text/plain": [
              "<Figure size 720x360 with 1 Axes>"
            ],
            "image/png": "[encoded data removed]"
          },
          "metadata": {
            "needs_background": "light"
          }
        }
      ]
    },
    {
      "cell_type": "code",
      "source": [
        "plt.figure(figsize=(10, 5))\n",
        "val_loss, = plt.plot(history.history['val_loss'],'r.-', label='Validation Loss')\n",
        "loss, = plt.plot(history.history['loss'],'g.-', label='Training Loss')\n",
        "plt.grid()\n",
        "plt.title('Training and Validation Loss')\n",
        "plt.ylabel('Loss')\n",
        "plt.xlabel('No. of epoch')\n",
        "plt.legend(handles=[val_loss, loss])\n",
        "plt.show()"
      ],
      "metadata": {
        "colab": {
          "base_uri": "https://localhost:8080/",
          "height": 350
        },
        "id": "-lRk6f4TWxOf",
        "outputId": "41a1689c-ed10-45f2-f8d0-54a156cd421d"
      },
      "execution_count": null,
      "outputs": [
        {
          "output_type": "display_data",
          "data": {
            "text/plain": [
              "<Figure size 720x360 with 1 Axes>"
            ],
            "image/png": "[encoded data removed]"
          },
          "metadata": {
            "needs_background": "light"
          }
        }
      ]
    },
    {
      "cell_type": "code",
      "source": [
        "from google.colab import drive\n",
        "drive.mount('/content/mydrive')\n",
        "output='/content/mydrive/My Drive/chest-xray/'"
      ],
      "metadata": {
        "colab": {
          "base_uri": "https://localhost:8080/"
        },
        "id": "hTAEeTB3WbP8",
        "outputId": "5d487947-10c3-4006-c1eb-2a75a0cc826a"
      },
      "execution_count": null,
      "outputs": [
        {
          "output_type": "stream",
          "name": "stdout",
          "text": [
            "Mounted at /content/mydrive\n"
          ]
        }
      ]
    },
    {
      "cell_type": "code",
      "source": [
        "model.save(output+'Covid-Pneumonia-TB-ModelEpochs10.h5')"
      ],
      "metadata": {
        "id": "yfN_pYFkWhAh"
      },
      "execution_count": null,
      "outputs": []
    },
    {
      "cell_type": "code",
      "execution_count": null,
      "metadata": {
        "id": "w8dsqumj1Ttp"
      },
      "outputs": [],
      "source": [
        "label_for_val_images=[]\n",
        "val_img = []\n",
        "for imgs, label in val_images:\n",
        "  val_img.extend(np.array(imgs)) \n",
        "  label_for_val_images.extend(np.argmax(label.numpy(),axis=1))\n",
        "\n",
        "val_img=np.array(val_img)\n",
        "val_lab=np.array(label_for_val_images)"
      ]
    },
    {
      "cell_type": "code",
      "source": [
        "from keras.models import load_model\n",
        "chest_m = load_model(output+\"Covid-Pneumonia-TB-ModelEpochs10.h5\")"
      ],
      "metadata": {
        "id": "l1x49vEhbiig"
      },
      "execution_count": null,
      "outputs": []
    },
    {
      "cell_type": "code",
      "source": [
        "pred=chest_m.predict(val_img)\n",
        "pred = np.argmax(pred,axis=1)\n",
        "print(\"First 5 Predictions: \",[category[i] for i in pred[:5]])"
      ],
      "metadata": {
        "colab": {
          "base_uri": "https://localhost:8080/"
        },
        "id": "apjBfIInbnga",
        "outputId": "018c8f90-79bf-4a10-e8a1-5dffb16d038c"
      },
      "execution_count": null,
      "outputs": [
        {
          "output_type": "stream",
          "name": "stdout",
          "text": [
            "First 5 Predictions:  ['NORMAL', 'PNEUMONIA', 'PNEUMONIA', 'PNEUMONIA', 'PNEUMONIA']\n"
          ]
        }
      ]
    },
    {
      "cell_type": "code",
      "execution_count": null,
      "metadata": {
        "id": "tneWGGVbFMEM"
      },
      "outputs": [],
      "source": [
        "from sklearn.metrics import classification_report,confusion_matrix, ConfusionMatrixDisplay"
      ]
    },
    {
      "cell_type": "code",
      "source": [
        "cm = confusion_matrix(val_lab, pred)\n",
        "disp = ConfusionMatrixDisplay(confusion_matrix=cm,display_labels=category)\n",
        "\n",
        "disp = disp.plot(include_values=category)\n",
        "plt.title(\"Confusion Matrix\")\n",
        "plt.xticks(rotation=45)\n",
        "print(\"Accuracy on Validation set: %.5f\"%(np.sum(np.diagonal(cm))/np.sum(cm)))\n",
        "plt.show()"
      ],
      "metadata": {
        "colab": {
          "base_uri": "https://localhost:8080/",
          "height": 370
        },
        "id": "OQj5XaFGZYU-",
        "outputId": "97c4fab2-aa10-405f-8f1b-9bd8fc1f1d7f"
      },
      "execution_count": null,
      "outputs": [
        {
          "output_type": "stream",
          "name": "stdout",
          "text": [
            "Accuracy on Validation set: 0.87696\n"
          ]
        },
        {
          "output_type": "display_data",
          "data": {
            "text/plain": [
              "<Figure size 432x288 with 2 Axes>"
            ],
            "image/png": "[encoded data removed]"
          },
          "metadata": {
            "needs_background": "light"
          }
        }
      ]
    },
    {
      "cell_type": "code",
      "source": [
        "print(classification_report(y_true=val_lab,y_pred=pred,target_names=category))"
      ],
      "metadata": {
        "colab": {
          "base_uri": "https://localhost:8080/"
        },
        "id": "qCS4UUd8au_h",
        "outputId": "ad1f4c36-293c-4056-83ca-38024ae65c75"
      },
      "execution_count": null,
      "outputs": [
        {
          "output_type": "stream",
          "name": "stdout",
          "text": [
            "               precision    recall  f1-score   support\n",
            "\n",
            "      COVID19       0.94      0.91      0.93       104\n",
            "       NORMAL       0.90      0.73      0.80       233\n",
            "    PNEUMONIA       0.85      0.95      0.90       387\n",
            "TURBERCULOSIS       0.88      0.93      0.90        40\n",
            "\n",
            "     accuracy                           0.88       764\n",
            "    macro avg       0.89      0.88      0.88       764\n",
            " weighted avg       0.88      0.88      0.87       764\n",
            "\n"
          ]
        }
      ]
    }
  ],
  "metadata": {
    "colab": {
      "collapsed_sections": [],
      "name": "Classification_of_Covid19_Pneumonia_TB.ipynb",
      "provenance": []
    },
    "kernelspec": {
      "display_name": "Python 3",
      "language": "python",
      "name": "python3"
    },
    "language_info": {
      "codemirror_mode": {
        "name": "ipython",
        "version": 3
      },
      "file_extension": ".py",
      "mimetype": "text/x-python",
      "name": "python",
      "nbconvert_exporter": "python",
      "pygments_lexer": "ipython3",
      "version": "3.7.12"
    },
    "accelerator": "GPU"
  },
  "nbformat": 4,
  "nbformat_minor": 0
}